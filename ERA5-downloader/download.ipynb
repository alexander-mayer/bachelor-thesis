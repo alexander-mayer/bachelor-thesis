{
 "cells": [
  {
   "cell_type": "code",
   "execution_count": null,
   "id": "1041048c-0864-44ee-a9d0-0d6919227d41",
   "metadata": {},
   "outputs": [],
   "source": [
    "import cdsapi\n",
    " \n",
    "c = cdsapi.Client()\n",
    " \n",
    "first_year = 2001\n",
    "last_year = 2001\n",
    " \n",
    "for year in range(first_year, last_year + 1):\n",
    "    for month in range(11, 13):\n",
    "        print(\"=========================================================\")\n",
    "        print(\"Downloading {year}-{month:02d}\".format(year=year, month=month))\n",
    "        c.retrieve(\n",
    "            'reanalysis-era5-single-levels',\n",
    "            {\n",
    "                'product_type': 'reanalysis',\n",
    "                'variable': ['10m_u_component_of_wind', '10m_v_component_of_wind', '2m_temperature',\n",
    "            'surface_pressure', 'total_precipitation'],\n",
    "                'year': str(year),\n",
    "                'month': \"{month:02d}\".format(month=month),\n",
    "                'day': [\n",
    "                    '01', '02', '03',\n",
    "                    '04', '05', '06',\n",
    "                    '07', '08', '09',\n",
    "                    '10', '11', '12',\n",
    "                    '13', '14', '15',\n",
    "                    '16', '17', '18',\n",
    "                    '19', '20', '21',\n",
    "                    '22', '23', '24',\n",
    "                    '25', '26', '27',\n",
    "                    '28', '29', '30',\n",
    "                    '31',\n",
    "                ],\n",
    "                'time': [\n",
    "                    '00:00', '01:00', '02:00',\n",
    "                    '03:00', '04:00', '05:00',\n",
    "                    '06:00', '07:00', '08:00',\n",
    "                    '09:00', '10:00', '11:00',\n",
    "                    '12:00', '13:00', '14:00',\n",
    "                    '15:00', '16:00', '17:00',\n",
    "                    '18:00', '19:00', '20:00',\n",
    "                    '21:00', '22:00', '23:00',\n",
    "                ],\n",
    "                'area': [\n",
    "                    8, 10, -8,\n",
    "                    33, #Central Africa\n",
    "                ],\n",
    "                'format': 'netcdf',\n",
    "            },\n",
    "            \"{year}-{month:02d}.nc\".format(year=year, month=month))"
   ]
  }
 ],
 "metadata": {
  "kernelspec": {
   "display_name": "Python 3 (ipykernel)",
   "language": "python",
   "name": "python3"
  },
  "language_info": {
   "codemirror_mode": {
    "name": "ipython",
    "version": 3
   },
   "file_extension": ".py",
   "mimetype": "text/x-python",
   "name": "python",
   "nbconvert_exporter": "python",
   "pygments_lexer": "ipython3",
   "version": "3.12.3"
  }
 },
 "nbformat": 4,
 "nbformat_minor": 5
}
